{
 "cells": [
  {
   "cell_type": "code",
   "execution_count": null,
   "metadata": {},
   "outputs": [],
   "source": [
    "%load_ext autoreload\n",
    "%autoreload 2\n",
    "\n",
    "import numpy as np\n",
    "import matplotlib.pyplot as plt\n",
    "%matplotlib inline\n",
    "%config InlineBackend.figure_format = 'svg'"
   ]
  },
  {
   "cell_type": "markdown",
   "metadata": {},
   "source": [
    "## Data generating model\n",
    "\n",
    "We generate data from a toy model with one explanatory variable and one response variable."
   ]
  },
  {
   "cell_type": "code",
   "execution_count": null,
   "metadata": {},
   "outputs": [],
   "source": [
    "# Set a random seed for reproducibility\n",
    "np.random.seed(2020)\n",
    "\n",
    "# Pre-defined model\n",
    "from mfpi import models\n",
    "data_model = models.Model_Ex1()\n",
    "\n",
    "# Sample data\n",
    "n_data = 1000\n",
    "X_data, Y_data = data_model.sample(n_data)\n",
    "\n",
    "# Sample test data\n",
    "n_test = 1000\n",
    "X_test, Y_test = data_model.sample(n_test)\n",
    "\n",
    "# Plot the data\n",
    "plt.scatter(X_data[:,0], Y_data, alpha=0.5)\n",
    "plt.xlabel(\"X\")\n",
    "plt.ylabel(\"Y\")\n",
    "plt.ylim(-2,2)\n",
    "plt.xlim(-0.02,1.02)\n",
    "plt.title(\"Data ({:d} observations)\".format(n_data))\n",
    "plt.savefig(\"data.pdf\")\n",
    "plt.show()\n",
    "\n",
    "# Plot the data\n",
    "plt.hist(Y_data, alpha=0.5)\n",
    "plt.ylabel(\"X\")\n",
    "plt.title(\"Histogram of Y values ({:d} observations)\".format(n_data))\n",
    "plt.savefig(\"data_histogram.pdf\")\n",
    "plt.show()"
   ]
  },
  {
   "cell_type": "markdown",
   "metadata": {},
   "source": [
    "## Warmup: Linear regression\n",
    "\n",
    "Let's see what happens if we try to apply linear regression to these data."
   ]
  },
  {
   "cell_type": "code",
   "execution_count": null,
   "metadata": {},
   "outputs": [],
   "source": [
    "import statsmodels.api as sm\n",
    "from statsmodels.sandbox.regression.predstd import wls_prediction_std\n",
    "\n",
    "# Fit a linear model with ordinary least squares\n",
    "linear_model = sm.OLS(Y_data,sm.add_constant(X_data)).fit()\n",
    "\n",
    "# Compute the regression function\n",
    "x_grid = np.linspace(0,1,1000)\n",
    "X_grid = np.reshape(x_grid, (len(x_grid),1))\n",
    "f_hat_linear = linear_model.predict(sm.add_constant(X_grid))\n",
    "\n",
    "# Plot the regression function\n",
    "plt.scatter(X_data[:,0], Y_data, alpha=0.5)\n",
    "plt.plot(x_grid, f_hat_linear, color=\"black\")\n",
    "plt.xlabel(\"X\")\n",
    "plt.ylabel(\"Y\")\n",
    "plt.ylim(-2,2)\n",
    "plt.xlim(-0.02,1.02)\n",
    "plt.title(\"Data and linear regression function\")\n",
    "plt.show()"
   ]
  },
  {
   "cell_type": "markdown",
   "metadata": {},
   "source": [
    "We can use linear regression theory to compute prediction intervals, even though the classical assumptions (linearity) are clearly invalid in this case.  "
   ]
  },
  {
   "cell_type": "code",
   "execution_count": null,
   "metadata": {},
   "outputs": [],
   "source": [
    "# Nominal significance level (1 - coverage level)\n",
    "alpha = 0.1\n",
    "\n",
    "# Compute prediction bands\n",
    "linear_bands = linear_model.get_prediction(sm.add_constant(X_grid)).summary_frame(alpha=alpha)\n",
    "linear_bands = np.array(linear_bands)[:,[4,5]]\n",
    "\n",
    "# Evaluate the empirical coverage\n",
    "pred_test = linear_model.get_prediction(sm.add_constant(X_test)).summary_frame(alpha=alpha)\n",
    "lower = np.array(pred_test)[:,4]\n",
    "upper = np.array(pred_test)[:,5]\n",
    "covered = (Y_test>=lower) * (Y_test <= upper)\n",
    "coverage = np.mean(covered)\n",
    "width = np.mean(upper-lower)\n",
    "width_cover = np.mean(upper[covered==1]-lower[covered==1])\n",
    "\n",
    "# Plot the prediction bands and compare them to the test data\n",
    "plt.scatter(X_test[:,0], Y_test, alpha=0.5)\n",
    "plt.plot(x_grid, f_hat_linear, color=\"black\")\n",
    "plt.plot(x_grid, linear_bands[:,0], color=\"red\")\n",
    "plt.plot(x_grid, linear_bands[:,1], color=\"red\")\n",
    "plt.xlabel(\"X\")\n",
    "plt.ylabel(\"Y\")\n",
    "plt.ylim(-2,2)\n",
    "plt.xlim(-0.02,1.02)\n",
    "txt_subtitle = \"Coverage: {:.3f}, Width: {:.3f}, Width|Cover: {:.3f}\".format(coverage, width, width_cover)\n",
    "plt.title(\"Test data and linear prediction bands (alpha: {:.2f})\\n\".format(alpha)+txt_subtitle)\n",
    "plt.show()"
   ]
  },
  {
   "cell_type": "markdown",
   "metadata": {},
   "source": [
    "## Black-box regression model\n",
    "\n",
    "We now fit a random forest regression model on the training data."
   ]
  },
  {
   "cell_type": "code",
   "execution_count": null,
   "metadata": {},
   "outputs": [],
   "source": [
    "# Fit a random forest to the data\n",
    "from sklearn.ensemble import RandomForestRegressor\n",
    "regr = RandomForestRegressor(n_estimators=10, min_samples_split=10, random_state=2020)\n",
    "regr.fit(X_data, Y_data)\n",
    "\n",
    "# Plot the regression function\n",
    "f_hat = regr.predict(X_grid)\n",
    "plt.scatter(X_data[:,0], Y_data, alpha=0.5)\n",
    "plt.plot(x_grid, f_hat, color=\"black\")\n",
    "plt.xlabel(\"X\")\n",
    "plt.ylabel(\"Y\")\n",
    "plt.ylim(-2,2)\n",
    "plt.xlim(-0.02,1.02)\n",
    "plt.title(\"Data and random forest regression function\")\n",
    "plt.savefig(\"data_rf.pdf\")\n",
    "plt.show()"
   ]
  },
  {
   "cell_type": "markdown",
   "metadata": {},
   "source": [
    "How can we assess the uncertainty of the predictions? Let's look at the residuals."
   ]
  },
  {
   "cell_type": "code",
   "execution_count": null,
   "metadata": {},
   "outputs": [],
   "source": [
    "# Compute residuals on data and test data\n",
    "residuals_data = Y_data - regr.predict(X_data)\n",
    "residuals_test = Y_test - regr.predict(X_test)\n",
    "\n",
    "# Plot the absolute residuals\n",
    "fig, axs = plt.subplots(1, 2, sharex='row')\n",
    "axs[0].hist(np.abs(residuals_data), alpha=0.5, bins=10)\n",
    "axs[0].set_xlim(0,1)\n",
    "axs[0].set_xlabel(\"Absolute residuals\")\n",
    "axs[0].set_title(\"Data\")\n",
    "axs[1].hist(np.abs(residuals_test), alpha=0.5, bins=10)\n",
    "axs[1].set_xlim(0,1)\n",
    "axs[1].set_xlabel(\"Absolute residuals\")\n",
    "axs[1].set_title(\"Test data\")\n",
    "plt.show()"
   ]
  },
  {
   "cell_type": "markdown",
   "metadata": {},
   "source": [
    "Residuals on the test data tend to be larger than on the train data due to overfitting."
   ]
  },
  {
   "cell_type": "markdown",
   "metadata": {},
   "source": [
    "## Split-conformal prediction\n",
    "\n",
    "Let's construct split-conformal prediction intervals "
   ]
  },
  {
   "cell_type": "code",
   "execution_count": null,
   "metadata": {},
   "outputs": [],
   "source": [
    "from sklearn.model_selection import train_test_split\n",
    "from scipy.stats.mstats import mquantiles\n",
    "\n",
    "def split_conformal(X, Y, X_test, black_box, alpha):\n",
    "    \"\"\"\n",
    "    Compute split-conformal prediction bands\n",
    "    \n",
    "    Input\n",
    "    X         : n x p data matrix of explanatory variables\n",
    "    Y         : n x 1 vector of response variables\n",
    "    X_test    : n x p test data matrix of explanatory variables\n",
    "    black_box : sklearn model object with 'fit' and 'predict' methods\n",
    "    alpha     : 1 - target coverage level \n",
    "    \"\"\"\n",
    "    \n",
    "    # Output placeholder\n",
    "    lower = None\n",
    "    upper = None\n",
    "    \n",
    "    # Split the data into training and calibration sets\n",
    "    X_train, X_calib, Y_train, Y_calib = train_test_split(X, Y, test_size=0.5, random_state=2020)\n",
    "    \n",
    "    # Fit the black box model on the training data\n",
    "    \"\"\"TODO: write your code here (1 line)\"\"\"\n",
    "    \n",
    "    # Compute residuals on the calibration data\n",
    "    \"\"\"TODO: write your code here (1 line)\"\"\"\n",
    "    \n",
    "    # Compute suitable empirical quantile of absolute residuals\n",
    "    \"\"\"TODO: write your code here (3 lines)\"\"\"\n",
    "    \n",
    "    # Construct prediction bands\n",
    "    \"\"\"TODO: write your code here (3 lines)\"\"\"\n",
    "    \n",
    "    return lower, upper  "
   ]
  },
  {
   "cell_type": "code",
   "execution_count": null,
   "metadata": {},
   "outputs": [],
   "source": [
    "# Desired coverage level (1-alpha)\n",
    "alpha = 0.1\n",
    "\n",
    "# Black box model of choice\n",
    "black_box = RandomForestRegressor(n_estimators=100, min_samples_split=2, random_state=2020)\n",
    "\n",
    "# Apply split conformal\n",
    "lower, upper = split_conformal(X_data, Y_data, X_test, black_box, alpha)"
   ]
  },
  {
   "cell_type": "code",
   "execution_count": null,
   "metadata": {},
   "outputs": [],
   "source": [
    "# Evaluate the empirical coverage\n",
    "covered = (Y_test>=lower) * (Y_test <= upper)\n",
    "coverage = np.mean(covered)\n",
    "width = np.mean(upper-lower)\n",
    "width_cover = np.mean(upper[covered==1]-lower[covered==1])"
   ]
  },
  {
   "cell_type": "code",
   "execution_count": null,
   "metadata": {},
   "outputs": [],
   "source": [
    "# Plot the prediction bands and compare them to the test data\n",
    "order = np.argsort(X_test[:,0])\n",
    "plt.scatter(X_test[order,0], Y_test[order], alpha=0.5)\n",
    "plt.plot(X_test[order,0], lower[order], color=\"red\")\n",
    "plt.plot(X_test[order,0], upper[order], color=\"red\")\n",
    "plt.xlabel(\"X\")\n",
    "plt.ylabel(\"Y\")\n",
    "plt.ylim(-2,2)\n",
    "plt.xlim(-0.02,1.02)\n",
    "txt_subtitle = \"Coverage: {:.3f}, Width: {:.3f}, Width|Cover: {:.3f}\".format(coverage, width, width_cover)\n",
    "plt.title(\"Test data and split-conformal prediction bands (alpha: {:.2f})\\n\".format(alpha)+txt_subtitle)\n",
    "plt.savefig(\"test_sc_rf.pdf\")\n",
    "plt.show()"
   ]
  },
  {
   "cell_type": "markdown",
   "metadata": {},
   "source": [
    "## Heteroscedasticity\n",
    "\n",
    "We consider now a variation of the previous data generating model which has heteroscedastic noise."
   ]
  },
  {
   "cell_type": "code",
   "execution_count": null,
   "metadata": {},
   "outputs": [],
   "source": [
    "# Set a random seed for reproducibility\n",
    "np.random.seed(2020)\n",
    "\n",
    "# Pre-defined model\n",
    "from mfpi import models\n",
    "data_model = models.Model_Ex1(a=1)\n",
    "\n",
    "# Sample data\n",
    "n_data = 1000\n",
    "X_data, Y_data = data_model.sample(n_data)\n",
    "\n",
    "# Sample test data\n",
    "n_test = 1000\n",
    "X_test, Y_test = data_model.sample(n_test)\n",
    "\n",
    "# Plot the data\n",
    "plt.scatter(X_data[:,0], Y_data, alpha=0.5)\n",
    "plt.xlabel(\"X\")\n",
    "plt.ylabel(\"Y\")\n",
    "plt.ylim(-8,8)\n",
    "plt.xlim(-0.02,1.02)\n",
    "plt.title(\"Data ({:d} observations)\".format(n_data))\n",
    "plt.savefig(\"data_2.pdf\")\n",
    "plt.show()"
   ]
  },
  {
   "cell_type": "code",
   "execution_count": null,
   "metadata": {},
   "outputs": [],
   "source": [
    "# Fit a random forest to the data\n",
    "from sklearn.ensemble import RandomForestRegressor\n",
    "regr = RandomForestRegressor(n_estimators=10, min_samples_split=10, random_state=2020)\n",
    "regr.fit(X_data, Y_data)\n",
    "\n",
    "# Plot the regression function\n",
    "f_hat = regr.predict(X_grid)\n",
    "plt.scatter(X_data[:,0], Y_data, alpha=0.5)\n",
    "plt.plot(x_grid, f_hat, color=\"black\")\n",
    "plt.xlabel(\"X\")\n",
    "plt.ylabel(\"Y\")\n",
    "plt.ylim(-8,8)\n",
    "plt.xlim(-0.02,1.02)\n",
    "plt.title(\"Data and random forest regression function\")\n",
    "plt.savefig(\"data_2_rf.pdf\")\n",
    "plt.show()"
   ]
  },
  {
   "cell_type": "code",
   "execution_count": null,
   "metadata": {},
   "outputs": [],
   "source": [
    "# Desired coverage level (1-alpha)\n",
    "alpha = 0.1\n",
    "\n",
    "# Black box model of choice\n",
    "black_box = RandomForestRegressor(n_estimators=10, min_samples_split=10, random_state=2020)\n",
    "\n",
    "# Apply split conformal\n",
    "lower, upper = split_conformal(X_data, Y_data, X_test, black_box, alpha)\n",
    "\n",
    "# Evaluate the empirical coverage\n",
    "covered = (Y_test>=lower) * (Y_test <= upper)\n",
    "coverage = np.mean(covered)\n",
    "width = np.mean(upper-lower)\n",
    "width_cover = np.mean(upper[covered==1]-lower[covered==1])\n",
    "\n",
    "# Plot the prediction bands and compare them to the test data\n",
    "order = np.argsort(X_test[:,0])\n",
    "plt.scatter(X_test[order,0], Y_test[order], alpha=0.5)\n",
    "plt.plot(X_test[order,0], lower[order], color=\"red\")\n",
    "plt.plot(X_test[order,0], upper[order], color=\"red\")\n",
    "plt.xlabel(\"X\")\n",
    "plt.ylabel(\"Y\")\n",
    "plt.ylim(-8,8)\n",
    "plt.xlim(-0.02,1.02)\n",
    "#txt_subtitle = \"Coverage: {:.3f}, Width: {:.3f}, Width|Cover: {:.3f}\".format(coverage, width, width_cover)\n",
    "#plt.title(\"Test data and split-conformal prediction bands (alpha: {:.2f})\\n\".format(alpha)+txt_subtitle)\n",
    "plt.savefig(\"test_2_sc_rf.pdf\")\n",
    "plt.show()"
   ]
  },
  {
   "cell_type": "markdown",
   "metadata": {},
   "source": [
    "## Oracle predictions\n",
    "\n",
    "Since we know the data generating model, we have access to oracle prediction intervals."
   ]
  },
  {
   "cell_type": "code",
   "execution_count": null,
   "metadata": {},
   "outputs": [],
   "source": [
    "lower, upper = data_model.oracle_predict(X_test, alpha)\n",
    "\n",
    "# Evaluate the empirical coverage\n",
    "covered = (Y_test>=lower) * (Y_test <= upper)\n",
    "coverage = np.mean(covered)\n",
    "width = np.mean(upper-lower)\n",
    "width_cover = np.mean(upper[covered==1]-lower[covered==1])\n",
    "\n",
    "# Plot the prediction bands and compare them to the test data\n",
    "order = np.argsort(X_test[:,0])\n",
    "plt.scatter(X_test[order,0], Y_test[order], alpha=0.5)\n",
    "plt.plot(X_test[order,0], lower[order], color=\"red\")\n",
    "plt.plot(X_test[order,0], upper[order], color=\"red\")\n",
    "plt.xlabel(\"X\")\n",
    "plt.ylabel(\"Y\")\n",
    "plt.ylim(-8,8)\n",
    "plt.xlim(-0.02,1.02)\n",
    "txt_subtitle = \"Coverage: {:.3f}, Width: {:.3f}, Width|Cover: {:.3f}\".format(coverage, width, width_cover)\n",
    "plt.title(\"Test data and oracle prediction bands (alpha: {:.2f})\\n\".format(alpha)+txt_subtitle)\n",
    "plt.savefig(\"test_2_oracle.pdf\")\n",
    "plt.show()"
   ]
  },
  {
   "cell_type": "markdown",
   "metadata": {},
   "source": [
    "## Quantile regression\n",
    "\n",
    "Let's now play fair and forget about the oracle.\n",
    "We will use a black-box quantile regression model."
   ]
  },
  {
   "cell_type": "code",
   "execution_count": null,
   "metadata": {},
   "outputs": [],
   "source": [
    "from quantile_forest import RandomForestQuantileRegressor\n",
    "\n",
    "# Fit a quantile regression model\n",
    "black_box = RandomForestQuantileRegressor(n_estimators=10, min_samples_split=10, random_state=2020)\n",
    "black_box.fit(X_data, Y_data)\n",
    "\n",
    "# Estimate conditional quantiles for data set\n",
    "lower = black_box.predict(X_data, quantiles=alpha/2)\n",
    "upper = black_box.predict(X_data, quantiles=(1-alpha/2))"
   ]
  },
  {
   "cell_type": "code",
   "execution_count": null,
   "metadata": {},
   "outputs": [],
   "source": [
    "# Plot the QR functions\n",
    "order = np.argsort(X_data[:,0])\n",
    "plt.scatter(X_data[order,0], Y_data[order], alpha=0.5)\n",
    "plt.plot(X_data[order,0], lower[order], color=\"black\")\n",
    "plt.plot(X_data[order,0], upper[order], color=\"black\")\n",
    "plt.xlabel(\"X\")\n",
    "plt.ylabel(\"Y\")\n",
    "plt.ylim(-8,8)\n",
    "plt.xlim(-0.02,1.02)\n",
    "plt.title(\"Data and random forest quantile regression\")\n",
    "plt.savefig(\"data_2_qr.pdf\")\n",
    "plt.show()"
   ]
  },
  {
   "cell_type": "markdown",
   "metadata": {},
   "source": [
    "Can we blindly trust the black-box model? Let's see how it does on test data."
   ]
  },
  {
   "cell_type": "code",
   "execution_count": null,
   "metadata": {},
   "outputs": [],
   "source": [
    "# Estimate conditional quantiles for test data\n",
    "lower = black_box.predict(X_test, quantile=100*alpha/2)\n",
    "upper = black_box.predict(X_test, quantile=100*(1-alpha/2))\n",
    "\n",
    "# Evaluate the empirical coverage\n",
    "covered = (Y_test>=lower) * (Y_test <= upper)\n",
    "coverage = np.mean(covered)\n",
    "width = np.mean(upper-lower)\n",
    "width_cover = np.mean(upper[covered==1]-lower[covered==1])\n",
    "\n",
    "# Plot the prediction bands and compare them to the test data\n",
    "order = np.argsort(X_test[:,0])\n",
    "plt.scatter(X_test[order,0], Y_test[order], alpha=0.5)\n",
    "plt.plot(X_test[order,0], lower[order], color=\"red\")\n",
    "plt.plot(X_test[order,0], upper[order], color=\"red\")\n",
    "plt.xlabel(\"X\")\n",
    "plt.ylabel(\"Y\")\n",
    "plt.ylim(-8,8)\n",
    "plt.xlim(-0.02,1.02)\n",
    "txt_subtitle = \"Coverage: {:.3f}, Width: {:.3f}, Width|Cover: {:.3f}\".format(coverage, width, width_cover)\n",
    "plt.title(\"Test data and RF QR prediction bands (alpha: {:.2f})\\n\".format(alpha)+txt_subtitle)\n",
    "plt.savefig(\"test_2_qr.pdf\")\n",
    "plt.show()"
   ]
  },
  {
   "cell_type": "markdown",
   "metadata": {},
   "source": [
    "Maybe we shouldn't trust it."
   ]
  },
  {
   "cell_type": "markdown",
   "metadata": {},
   "source": [
    "## Split-conformal quantile regression\n",
    "\n",
    "Since we don't trust the black-box model, we will use conformal inference."
   ]
  },
  {
   "cell_type": "code",
   "execution_count": null,
   "metadata": {},
   "outputs": [],
   "source": [
    "from sklearn.model_selection import train_test_split\n",
    "from scipy.stats.mstats import mquantiles\n",
    "from quantile_forest import RandomForestQuantileRegressor\n",
    "\n",
    "def cqr(X, Y, X_test, alpha):\n",
    "    \"\"\"\n",
    "    Compute split-conformal quantile regression prediction bands.\n",
    "    Uses quantile random forests as a black box \n",
    "    \n",
    "    Input\n",
    "    X         : n x p data matrix of explanatory variables\n",
    "    Y         : n x 1 vector of response variables\n",
    "    X_test    : n x p test data matrix of explanatory variables\n",
    "    alpha     : 1 - target coverage level \n",
    "    \"\"\"\n",
    "    \n",
    "    # Output placeholder\n",
    "    lower = None\n",
    "    upper = None\n",
    "    \n",
    "    # Split the data into training and calibration sets\n",
    "    \"\"\"TODO: write your code here (1 line)\"\"\"\n",
    "    \n",
    "    # Fit a quantile regression model\n",
    "    \"\"\"TODO: write your code here (2 lines)\"\"\"\n",
    "\n",
    "    # Estimate conditional quantiles for calibration set\n",
    "    \"\"\"TODO: write your code here (2 lines)\"\"\"\n",
    "    \n",
    "    # Compute conformity scores on the calibration data\n",
    "    \"\"\"TODO: write your code here (1 line)\"\"\"\n",
    "    \n",
    "    # Compute suitable empirical quantile of absolute residuals\n",
    "    \"\"\"TODO: write your code here (3 lines)\"\"\"\n",
    "    \n",
    "    # Construct prediction bands\n",
    "    \"\"\"TODO: write your code here (4 lines)\"\"\"\n",
    "    \n",
    "    return lower, upper "
   ]
  },
  {
   "cell_type": "code",
   "execution_count": null,
   "metadata": {},
   "outputs": [],
   "source": [
    "# Desired coverage level (1-alpha)\n",
    "alpha = 0.1\n",
    "\n",
    "# Apply quantile regression split conformal\n",
    "lower, upper = cqr(X_data, Y_data, X_test, alpha)\n",
    "\n",
    "# Evaluate the empirical coverage\n",
    "covered = (Y_test>=lower) * (Y_test <= upper)\n",
    "coverage = np.mean(covered)\n",
    "width = np.mean(upper-lower)\n",
    "width_cover = np.mean(upper[covered==1]-lower[covered==1])\n",
    "\n",
    "# Plot the prediction bands and compare them to the test data\n",
    "order = np.argsort(X_test[:,0])\n",
    "plt.scatter(X_test[order,0], Y_test[order], alpha=0.5)\n",
    "plt.plot(X_test[order,0], lower[order], color=\"red\")\n",
    "plt.plot(X_test[order,0], upper[order], color=\"red\")\n",
    "plt.xlabel(\"X\")\n",
    "plt.ylabel(\"Y\")\n",
    "plt.ylim(-8,8)\n",
    "plt.xlim(-0.02,1.02)\n",
    "txt_subtitle = \"Coverage: {:.3f}, Width: {:.3f}, Width|Cover: {:.3f}\".format(coverage, width, width_cover)\n",
    "plt.title(\"Test data and CQR prediction bands (alpha: {:.2f})\\n\".format(alpha)+txt_subtitle)\n",
    "plt.savefig(\"test_2_cqr.pdf\")\n",
    "plt.show()"
   ]
  }
 ],
 "metadata": {
  "kernelspec": {
   "display_name": "Python 3 (ipykernel)",
   "language": "python",
   "name": "python3"
  },
  "language_info": {
   "codemirror_mode": {
    "name": "ipython",
    "version": 3
   },
   "file_extension": ".py",
   "mimetype": "text/x-python",
   "name": "python",
   "nbconvert_exporter": "python",
   "pygments_lexer": "ipython3",
   "version": "3.8.10"
  }
 },
 "nbformat": 4,
 "nbformat_minor": 4
}
